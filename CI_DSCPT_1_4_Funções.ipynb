{
  "nbformat": 4,
  "nbformat_minor": 0,
  "metadata": {
    "colab": {
      "provenance": [],
      "authorship_tag": "ABX9TyMOcGpxlmZRLeIt+QvNMYC6",
      "include_colab_link": true
    },
    "kernelspec": {
      "name": "python3",
      "display_name": "Python 3"
    },
    "language_info": {
      "name": "python"
    }
  },
  "cells": [
    {
      "cell_type": "markdown",
      "metadata": {
        "id": "view-in-github",
        "colab_type": "text"
      },
      "source": [
        "<a href=\"https://colab.research.google.com/github/mvieiradev/Fun-es-Python/blob/main/CI_DSCPT_1_4_Fun%C3%A7%C3%B5es.ipynb\" target=\"_parent\"><img src=\"https://colab.research.google.com/assets/colab-badge.svg\" alt=\"Open In Colab\"/></a>"
      ]
    },
    {
      "cell_type": "code",
      "execution_count": null,
      "metadata": {
        "id": "YWTjHFqWuzcn"
      },
      "outputs": [],
      "source": [
        "def soma(x,y):\n",
        "  add=x+y\n",
        "  return add"
      ]
    },
    {
      "cell_type": "code",
      "source": [
        "num_1=int(input(\"Primeiro numero:\"))\n",
        "num_2=int(input(\"Segundo numero:\"))\n",
        "a=(num_1 + num_2)\n",
        "print(\"A soma e: \",a)"
      ],
      "metadata": {
        "id": "D7vSpTt8vaS7"
      },
      "execution_count": null,
      "outputs": []
    },
    {
      "cell_type": "code",
      "source": [
        "def idade_nome(nome):\n",
        "  year=int(input(\"Sr/Sra  {} , em que ano nasce?\" .format(nome)))\n",
        "  return(year)"
      ],
      "metadata": {
        "id": "wJxdpAUrvb4R"
      },
      "execution_count": null,
      "outputs": []
    },
    {
      "cell_type": "code",
      "source": [
        "n=input(\"Introduza o nome\")\n",
        "y=idade_nome(n)\n",
        "idade=2022-y\n",
        "print(\"Nome:\", n, \"\\nIdade:\", idade)"
      ],
      "metadata": {
        "id": "g9Sc6fX_vdK3"
      },
      "execution_count": null,
      "outputs": []
    },
    {
      "cell_type": "code",
      "source": [
        "def calculadora(ops,num_1,num_2):\n",
        "  if ops==\"-\":\n",
        "    subs=num_1-num_2\n",
        "  elif ops==\"+\":\n",
        "   subs=num_1+num_2\n",
        "  else:\n",
        "    subs=False\n",
        "  return  subs"
      ],
      "metadata": {
        "id": "iij3wAr43xEP"
      },
      "execution_count": 10,
      "outputs": []
    },
    {
      "cell_type": "code",
      "source": [
        "num_1=int(input(\"Introduza o primeiro numero\"))\n",
        "num_2=int(input(\"Introduza o segundo numero\"))\n",
        "op=str(input(\"Operacao:\"))\n",
        "resultado=calculadora(op,num_1,num_2)\n",
        "if resultado:\n",
        "  print(resultado)\n",
        "else:\n",
        "  print(\"Error\") "
      ],
      "metadata": {
        "colab": {
          "base_uri": "https://localhost:8080/"
        },
        "id": "quhEqCmf4VvY",
        "outputId": "79f2d125-4da9-4477-ec09-4dc331bca2ac"
      },
      "execution_count": 11,
      "outputs": [
        {
          "output_type": "stream",
          "name": "stdout",
          "text": [
            "Introduza o primeiro numero1\n",
            "Introduza o segundo numero1\n",
            "Operacao:soma\n",
            "2\n"
          ]
        }
      ]
    }
  ]
}